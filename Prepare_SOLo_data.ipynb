{
 "cells": [
  {
   "cell_type": "markdown",
   "id": "1d79b751",
   "metadata": {},
   "source": [
    "# Load libraries"
   ]
  },
  {
   "cell_type": "code",
   "execution_count": 1,
   "id": "09563ca2",
   "metadata": {},
   "outputs": [
    {
     "name": "stderr",
     "output_type": "stream",
     "text": [
      "C:\\Users\\nokni\\pyspedas\\lib\\site-packages\\spacepy\\time.py:2365: UserWarning: Leapseconds may be out of date. Use spacepy.toolbox.update(leapsecs=True)\n",
      "  warnings.warn('Leapseconds may be out of date.'\n"
     ]
    }
   ],
   "source": [
    "\"\"\" Numpy \"\"\"\n",
    "import numpy as np\n",
    "\n",
    "\"\"\"Pandas\"\"\"\n",
    "import pandas as pd\n",
    "\n",
    "\"\"\"tqdm\"\"\"\n",
    "from tqdm import tqdm_notebook\n",
    "from tqdm import trange\n",
    "import ipywidgets\n",
    "import IProgress\n",
    "\n",
    "\n",
    "\"\"\"Matplotlib\"\"\"\n",
    "import matplotlib.dates as mdates\n",
    "import matplotlib.pyplot as plt\n",
    "import matplotlib.pylab as pl\n",
    "import matplotlib.units as munits\n",
    "import matplotlib.ticker\n",
    "from   cycler import cycler\n",
    "import datetime\n",
    "from matplotlib.colors import LinearSegmentedColormap\n",
    "from matplotlib.colors import LogNorm  \n",
    "import matplotlib as mpl\n",
    "from matplotlib.gridspec import GridSpec\n",
    "from mpl_toolkits.axes_grid1 import make_axes_locatable\n",
    "\n",
    "\"\"\"Seaborn\"\"\"\n",
    "import seaborn as sns\n",
    "\n",
    "\"\"\" Wavelets \"\"\"\n",
    "import pywt\n",
    "\n",
    "\"\"\" Scipy \"\"\"\n",
    "import scipy.io\n",
    "from scipy.io import savemat\n",
    "\n",
    "\"\"\"Sort files in folder\"\"\"\n",
    "import natsort\n",
    "\n",
    "\"\"\" Load files \"\"\"\n",
    "from   spacepy import pycdf\n",
    "import pickle\n",
    "import glob\n",
    "import os\n",
    "\n",
    "\n",
    "\"\"\" Import manual functions \"\"\"\n",
    "import sys\n",
    "\n",
    "sys.path.insert(1,r'C:\\Users\\nikos.000\\PVI\\python_scripts')\n",
    "import functions2 as fun\n",
    "\n",
    "sys.path.insert(1,r'C:\\Users\\nikos.000\\coh_struc_dist_final\\python')\n",
    "import solo \n",
    "\n",
    "sys.path.insert(1,r'C:\\Users\\nikos.000\\coh_struc_dist_final\\python')\n",
    "import struc_func as struc_f\n",
    "\n",
    "def plot_pretty(dpi=175,fontsize=9):\n",
    "    # import pyplot and set some parameters to make plots prettier\n",
    "    plt.rc(\"savefig\", dpi=dpi)\n",
    "    plt.rc(\"figure\", dpi=dpi)\n",
    "    plt.rc('font', size=fontsize)\n",
    "    plt.rc('xtick', direction='in') \n",
    "    plt.rc('ytick', direction='in')\n",
    "    plt.rc('xtick.major', pad=5) \n",
    "    plt.rc('xtick.minor', pad=5)\n",
    "    plt.rc('ytick.major', pad=5) \n",
    "    plt.rc('ytick.minor', pad=5)\n",
    "    plt.rc('lines', dotted_pattern = [0.5, 1.1])\n",
    "    return\n",
    "\n",
    "plt.style.use(['science','notebook','grid'])\n",
    "plot_pretty(dpi=150, fontsize=12)\n",
    "\n",
    "\n",
    "COLOR = 'k'#'#FFFAF1'\n",
    "plt.rcParams['font.size'] = 25\n",
    "plt.rcParams['text.color'] = COLOR\n",
    "plt.rcParams['axes.labelcolor'] = COLOR\n",
    "plt.rcParams['xtick.color'] = COLOR\n",
    "plt.rcParams['ytick.color'] = COLOR\n",
    "\n",
    "plt.rcParams['xtick.major.width'] = 2\n",
    "plt.rcParams['ytick.major.width'] = 2\n",
    "plt.rcParams['xtick.major.size']  = 6 #12\n",
    "plt.rcParams['ytick.major.size']  = 6 #12\n",
    "\n",
    "plt.rcParams['xtick.minor.width'] = 2\n",
    "plt.rcParams['ytick.minor.width'] = 2\n",
    "plt.rcParams['xtick.minor.size']  = 4\n",
    "plt.rcParams['ytick.minor.size']  = 4\n",
    "\n",
    "#plt.rcParams['text.usetex'] = True\n",
    "plt.rcParams[\"font.family\"] = \"Comic Sans MS\"\n",
    "plt.rcParams['axes.linewidth'] = 2\n",
    "\n"
   ]
  },
  {
   "cell_type": "markdown",
   "id": "98e0510f",
   "metadata": {},
   "source": [
    "# Download magnetic field data in SC coordinates"
   ]
  },
  {
   "cell_type": "code",
   "execution_count": null,
   "id": "1144ff40",
   "metadata": {},
   "outputs": [],
   "source": [
    "import sunpy_soar\n",
    "from sunpy.net import Fido\n",
    "\n",
    "from sunpy.net.attrs import Instrument, Level, Time\n",
    "from sunpy_soar.attrs import Identifier\n",
    "\n",
    "# Create search attributes\n",
    "instrument = Instrument('SWP')\n",
    "time = Time('2020-05-01', '2021-10-05')\n",
    "level = Level(2)\n",
    "identifier = Identifier('MAG-SRF-NORMAL')\n",
    "\n",
    "# Do search\n",
    "result = Fido.search(instrument, time, level, identifier)\n",
    "print(result)\n",
    "\n",
    "# Download files\n",
    "files = Fido.fetch(result)\n",
    "print(files)\n"
   ]
  },
  {
   "cell_type": "markdown",
   "id": "3e7a0cc0",
   "metadata": {},
   "source": [
    "# I have downloaded particle data via:\n",
    "\n",
    "https://cdaweb.gsfc.nasa.gov/cgi-bin/eval3.cgi\n",
    "\n",
    "# And  spacecraft distance data via:\n",
    "\n",
    "https://cdaweb.gsfc.nasa.gov/cgi-bin/eval3.cgi"
   ]
  },
  {
   "cell_type": "markdown",
   "id": "37be3fc5",
   "metadata": {},
   "source": [
    "# Clean, concat Particle data"
   ]
  },
  {
   "cell_type": "code",
   "execution_count": 3,
   "id": "322824b8",
   "metadata": {},
   "outputs": [
    {
     "name": "stdout",
     "output_type": "stream",
     "text": [
      "Requirement already satisfied: colorama in c:\\users\\nokni\\pyspedas\\lib\\site-packages (0.4.4)\n",
      "Note: you may need to restart the kernel to use updated packages.\n"
     ]
    },
    {
     "name": "stderr",
     "output_type": "stream",
     "text": [
      "WARNING: You are using pip version 20.2.3; however, version 21.3.1 is available.\n",
      "You should consider upgrading via the 'C:\\Users\\nokni\\pyspedas\\Scripts\\python.exe -m pip install --upgrade pip' command.\n"
     ]
    }
   ],
   "source": [
    "environment = 'C://Users/nokni/'\n",
    "replace     = 0                  # reaplce missing values with the mean of values inside window\n",
    "window_size = 100                # window size for Hampel filter\n",
    "year        = [ '2020', '2021' ] # Years with available data\n",
    "desired_min = -1e5               # Replace values below min\n",
    "target_path = r\"C:\\Users\\nikos.000\\coh_struct_distance\\data\\solo\\particles\\Vsw\"\n",
    "save_path   =  r\"C:\\Users\\nikos.000\\coh_struct_distance\\data\\solo\\particles\\Vsw\\clean_merged\"\n",
    "\n",
    "\n",
    "\"\"\"Run functions\"\"\"\n",
    "solo.clean_SOLO_particles(environment,year,  replace, window_size, desired_min, target_path,save_path)"
   ]
  },
  {
   "cell_type": "markdown",
   "id": "707f9252",
   "metadata": {},
   "source": [
    "# Clean, concat magnetic field data"
   ]
  },
  {
   "cell_type": "code",
   "execution_count": null,
   "id": "cf6dcf7c",
   "metadata": {},
   "outputs": [
    {
     "name": "stdout",
     "output_type": "stream",
     "text": [
      "2020, progress 0.0 %\n",
      "2020, progress 5.8 %\n",
      "2020, progress 11.7 %\n",
      "2020, progress 17.5 %\n",
      "2020, progress 23.4 %\n",
      "2020, progress 29.2 %\n",
      "2020, progress 35.1 %\n",
      "2020, progress 40.9 %\n",
      "2020, progress 46.8 %\n",
      "2020, progress 52.6 %\n",
      "2020, progress 58.5 %\n",
      "2020, progress 64.3 %\n",
      "2020, progress 70.2 %\n",
      "2020, progress 76.0 %\n",
      "2020, progress 81.9 %\n",
      "2020, progress 87.7 %\n",
      "2020, progress 93.6 %\n",
      "2020, progress 99.4 %\n",
      "2021, progress 0.0 %\n",
      "2021, progress 4.2 %\n",
      "2021, progress 8.4 %\n",
      "2021, progress 12.6 %\n",
      "2021, progress 16.7 %\n",
      "2021, progress 20.9 %\n",
      "2021, progress 25.1 %\n",
      "2021, progress 29.3 %\n",
      "2021, progress 33.5 %\n",
      "2021, progress 37.7 %\n",
      "2021, progress 41.8 %\n",
      "2021, progress 46.0 %\n",
      "2021, progress 50.2 %\n",
      "2021, progress 54.4 %\n"
     ]
    }
   ],
   "source": [
    "environment        = 'C://Users/nokni/'    # So you can read cdf files\n",
    "resampling_time    = '1s'                  # Downsample magnetic field to desired cadence\n",
    "gap_time_threshold = 1                     # Remove gaps greater than threshold from timeseries\n",
    "year               = ['2020', '2021']    # Years with available data\n",
    "target_path        = r\"C:\\Users\\nikos.000\\coh_struct_distance\\data\\solo\\magnetic_field\"\n",
    "save_path          = r\"C:\\Users\\nikos.000\\coh_struct_distance\\data\\solo\\magnetic_field\\clean_merged\"\n",
    "\n",
    "# No need for Hampel filter, as magnetic field timeseries is most of the time clean in terms of outliers #\n",
    "\"\"\"Run functions\"\"\"\n",
    "solo.clean_SOLO_magnetic_field(gap_time_threshold, resampling_time, environment, year, target_path, save_path)"
   ]
  },
  {
   "cell_type": "code",
   "execution_count": null,
   "id": "388f5f9c",
   "metadata": {},
   "outputs": [
    {
     "name": "stderr",
     "output_type": "stream",
     "text": [
      "25-Nov-21 01:16:01: C:\\Users\\nokni\\pyspedas\\lib\\site-packages\\ipykernel\\ipkernel.py:287: DeprecationWarning: `should_run_async` will not call `transform_cell` automatically in the future. Please pass the result to `transformed_cell` argument and any exception that happen during thetransform in `preprocessing_exc_tuple` in IPython 7.17 and above.\n",
      "  and should_run_async(code)\n",
      "\n"
     ]
    }
   ],
   "source": [
    "import os\n",
    "import requests\n",
    "from urllib.parse import urljoin\n",
    "from bs4 import BeautifulSoup\n",
    "\n",
    "\n",
    "url = \"https://spdf.gsfc.nasa.gov/pub/data/solar-orbiter/rpw/science/l2/hfr-surv/2020/\"\n",
    "\n",
    "#If there is no such folder, the script will create one automatically\n",
    "folder_location = r'C:\\Users\\nikos.000\\coh_struct_distance\\data\\solo\\particles\\temperature'\n",
    "if not os.path.exists(folder_location):os.mkdir(folder_location)\n",
    "\n",
    "response = requests.get(url)\n",
    "soup= BeautifulSoup(response.text, \"html.parser\")     \n",
    "for link in soup.select(\"a[href$='.cdf']\"):\n",
    "    #Name the pdf files using the last portion of each link which are unique in this case\n",
    "    filename = os.path.join(folder_location,link['href'].split('/')[-1])\n",
    "    with open(filename, 'wb') as f:\n",
    "        f.write(requests.get(urljoin(url,link['href'])).content)\n",
    "        "
   ]
  }
 ],
 "metadata": {
  "kernelspec": {
   "display_name": "Python (virtual env)",
   "language": "python",
   "name": "pyspedas-stuff"
  },
  "language_info": {
   "codemirror_mode": {
    "name": "ipython",
    "version": 3
   },
   "file_extension": ".py",
   "mimetype": "text/x-python",
   "name": "python",
   "nbconvert_exporter": "python",
   "pygments_lexer": "ipython3",
   "version": "3.8.2"
  }
 },
 "nbformat": 4,
 "nbformat_minor": 5
}
